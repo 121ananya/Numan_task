{
 "cells": [
  {
   "cell_type": "markdown",
   "metadata": {},
   "source": [
    "# NUMAN INTERNSHIP TASK"
   ]
  },
  {
   "cell_type": "code",
   "execution_count": 2,
   "metadata": {},
   "outputs": [],
   "source": [
    "#import pandas in Jupyter Notebook environement:\n",
    "import numpy as np\n",
    "import xlrd\n",
    "import openpyxl\n",
    "import pandas as pd\n",
    "import matplotlib as plt\n",
    "import seaborn as sns\n",
    "%matplotlib notebook"
   ]
  },
  {
   "cell_type": "markdown",
   "metadata": {},
   "source": [
    "DATA FILE"
   ]
  },
  {
   "cell_type": "code",
   "execution_count": 6,
   "metadata": {},
   "outputs": [],
   "source": [
    "#reading xlsx file \n",
    "dataset1=pd.read_excel(r'C:\\Users\\sinha\\Desktop\\data.xlsx',sheet_name='Detail_67_1_1')\n",
    "dataset2=pd.read_excel(r'C:\\Users\\sinha\\Desktop\\data.xlsx',sheet_name='Detail_67_1_1_1')\n",
    "dataset3=pd.read_excel(r'C:\\Users\\sinha\\Desktop\\data.xlsx',sheet_name='Detail_67_1_1_2')\n",
    "dataset4=pd.read_excel(r'C:\\Users\\sinha\\Desktop\\data.xlsx',sheet_name='Detail_67_1_1_3')\n",
    "dataset5=pd.read_excel(r'C:\\Users\\sinha\\Desktop\\data.xlsx',sheet_name='Detail_67_1_1_4')\n",
    "dataset6=pd.read_excel(r'C:\\Users\\sinha\\Desktop\\data.xlsx',sheet_name='Detail_67_1_1_5')\n",
    "dataset7=pd.read_excel(r'C:\\Users\\sinha\\Desktop\\data.xlsx',sheet_name='Detail_67_1_1_6')"
   ]
  },
  {
   "cell_type": "code",
   "execution_count": 54,
   "metadata": {},
   "outputs": [
    {
     "name": "stdout",
     "output_type": "stream",
     "text": [
      "<class 'pandas.core.frame.DataFrame'>\n",
      "RangeIndex: 65535 entries, 0 to 65534\n",
      "Data columns (total 6 columns):\n",
      " #   Column                       Non-Null Count  Dtype         \n",
      "---  ------                       --------------  -----         \n",
      " 0   Record ID                    65535 non-null  int64         \n",
      " 1   Step Name                    65535 non-null  object        \n",
      " 2   Relative Time(h:min:s.ms)    65535 non-null  object        \n",
      " 3   Realtime                     65535 non-null  datetime64[ns]\n",
      " 4   Auxiliary channel TU1 T(°C)  65535 non-null  float64       \n",
      " 5   Gap of Temperature           65535 non-null  int64         \n",
      "dtypes: datetime64[ns](1), float64(1), int64(2), object(2)\n",
      "memory usage: 3.0+ MB\n",
      "<class 'pandas.core.frame.DataFrame'>\n",
      "RangeIndex: 65535 entries, 0 to 65534\n",
      "Data columns (total 11 columns):\n",
      " #   Column                     Non-Null Count  Dtype         \n",
      "---  ------                     --------------  -----         \n",
      " 0   Record Index               65535 non-null  int64         \n",
      " 1   Status                     65535 non-null  object        \n",
      " 2   JumpTo                     65535 non-null  int64         \n",
      " 3   Cycle                      65535 non-null  int64         \n",
      " 4   Step                       65535 non-null  int64         \n",
      " 5   Cur(mA)                    65535 non-null  float64       \n",
      " 6   Voltage(V)                 65535 non-null  float64       \n",
      " 7   CapaCity(mAh)              65535 non-null  float64       \n",
      " 8   Energy(mWh)                65535 non-null  float64       \n",
      " 9   Relative Time(h:min:s.ms)  65535 non-null  object        \n",
      " 10  Absolute Time              65535 non-null  datetime64[ns]\n",
      "dtypes: datetime64[ns](1), float64(4), int64(4), object(2)\n",
      "memory usage: 5.5+ MB\n"
     ]
    }
   ],
   "source": [
    "dataset.info()\n",
    "dataset1.info()"
   ]
  },
  {
   "cell_type": "code",
   "execution_count": 55,
   "metadata": {},
   "outputs": [
    {
     "data": {
      "text/html": [
       "<div>\n",
       "<style scoped>\n",
       "    .dataframe tbody tr th:only-of-type {\n",
       "        vertical-align: middle;\n",
       "    }\n",
       "\n",
       "    .dataframe tbody tr th {\n",
       "        vertical-align: top;\n",
       "    }\n",
       "\n",
       "    .dataframe thead th {\n",
       "        text-align: right;\n",
       "    }\n",
       "</style>\n",
       "<table border=\"1\" class=\"dataframe\">\n",
       "  <thead>\n",
       "    <tr style=\"text-align: right;\">\n",
       "      <th></th>\n",
       "      <th>Record ID</th>\n",
       "      <th>Step Name</th>\n",
       "      <th>Relative Time(h:min:s.ms)</th>\n",
       "      <th>Realtime</th>\n",
       "      <th>Auxiliary channel TU1 T(°C)</th>\n",
       "      <th>Gap of Temperature</th>\n",
       "    </tr>\n",
       "  </thead>\n",
       "  <tbody>\n",
       "    <tr>\n",
       "      <th>0</th>\n",
       "      <td>196606</td>\n",
       "      <td>CCCV_DChg</td>\n",
       "      <td>0:04:10.000</td>\n",
       "      <td>2020-10-13 02:39:32</td>\n",
       "      <td>28.3</td>\n",
       "      <td>0</td>\n",
       "    </tr>\n",
       "    <tr>\n",
       "      <th>1</th>\n",
       "      <td>196607</td>\n",
       "      <td>CCCV_DChg</td>\n",
       "      <td>0:04:11.000</td>\n",
       "      <td>2020-10-13 02:39:33</td>\n",
       "      <td>28.3</td>\n",
       "      <td>0</td>\n",
       "    </tr>\n",
       "    <tr>\n",
       "      <th>2</th>\n",
       "      <td>196608</td>\n",
       "      <td>CCCV_DChg</td>\n",
       "      <td>0:04:12.000</td>\n",
       "      <td>2020-10-13 02:39:34</td>\n",
       "      <td>28.3</td>\n",
       "      <td>0</td>\n",
       "    </tr>\n",
       "    <tr>\n",
       "      <th>3</th>\n",
       "      <td>196609</td>\n",
       "      <td>CCCV_DChg</td>\n",
       "      <td>0:04:13.000</td>\n",
       "      <td>2020-10-13 02:39:35</td>\n",
       "      <td>28.3</td>\n",
       "      <td>0</td>\n",
       "    </tr>\n",
       "    <tr>\n",
       "      <th>4</th>\n",
       "      <td>196610</td>\n",
       "      <td>CCCV_DChg</td>\n",
       "      <td>0:04:14.000</td>\n",
       "      <td>2020-10-13 02:39:36</td>\n",
       "      <td>28.3</td>\n",
       "      <td>0</td>\n",
       "    </tr>\n",
       "  </tbody>\n",
       "</table>\n",
       "</div>"
      ],
      "text/plain": [
       "   Record ID  Step Name Relative Time(h:min:s.ms)            Realtime  \\\n",
       "0     196606  CCCV_DChg               0:04:10.000 2020-10-13 02:39:32   \n",
       "1     196607  CCCV_DChg               0:04:11.000 2020-10-13 02:39:33   \n",
       "2     196608  CCCV_DChg               0:04:12.000 2020-10-13 02:39:34   \n",
       "3     196609  CCCV_DChg               0:04:13.000 2020-10-13 02:39:35   \n",
       "4     196610  CCCV_DChg               0:04:14.000 2020-10-13 02:39:36   \n",
       "\n",
       "   Auxiliary channel TU1 T(°C)  Gap of Temperature  \n",
       "0                         28.3                   0  \n",
       "1                         28.3                   0  \n",
       "2                         28.3                   0  \n",
       "3                         28.3                   0  \n",
       "4                         28.3                   0  "
      ]
     },
     "execution_count": 55,
     "metadata": {},
     "output_type": "execute_result"
    }
   ],
   "source": [
    "dataset.head()"
   ]
  },
  {
   "cell_type": "code",
   "execution_count": 56,
   "metadata": {},
   "outputs": [
    {
     "data": {
      "text/html": [
       "<div>\n",
       "<style scoped>\n",
       "    .dataframe tbody tr th:only-of-type {\n",
       "        vertical-align: middle;\n",
       "    }\n",
       "\n",
       "    .dataframe tbody tr th {\n",
       "        vertical-align: top;\n",
       "    }\n",
       "\n",
       "    .dataframe thead th {\n",
       "        text-align: right;\n",
       "    }\n",
       "</style>\n",
       "<table border=\"1\" class=\"dataframe\">\n",
       "  <thead>\n",
       "    <tr style=\"text-align: right;\">\n",
       "      <th></th>\n",
       "      <th>Record Index</th>\n",
       "      <th>Status</th>\n",
       "      <th>JumpTo</th>\n",
       "      <th>Cycle</th>\n",
       "      <th>Step</th>\n",
       "      <th>Cur(mA)</th>\n",
       "      <th>Voltage(V)</th>\n",
       "      <th>CapaCity(mAh)</th>\n",
       "      <th>Energy(mWh)</th>\n",
       "      <th>Relative Time(h:min:s.ms)</th>\n",
       "      <th>Absolute Time</th>\n",
       "    </tr>\n",
       "  </thead>\n",
       "  <tbody>\n",
       "    <tr>\n",
       "      <th>0</th>\n",
       "      <td>1</td>\n",
       "      <td>Rest</td>\n",
       "      <td>1</td>\n",
       "      <td>1</td>\n",
       "      <td>1</td>\n",
       "      <td>0.0</td>\n",
       "      <td>3.59</td>\n",
       "      <td>0.0</td>\n",
       "      <td>0.0</td>\n",
       "      <td>0:00:00.000</td>\n",
       "      <td>2020-10-10 20:03:39</td>\n",
       "    </tr>\n",
       "    <tr>\n",
       "      <th>1</th>\n",
       "      <td>2</td>\n",
       "      <td>Rest</td>\n",
       "      <td>1</td>\n",
       "      <td>1</td>\n",
       "      <td>1</td>\n",
       "      <td>0.0</td>\n",
       "      <td>3.59</td>\n",
       "      <td>0.0</td>\n",
       "      <td>0.0</td>\n",
       "      <td>0:00:01.000</td>\n",
       "      <td>2020-10-10 20:03:40</td>\n",
       "    </tr>\n",
       "    <tr>\n",
       "      <th>2</th>\n",
       "      <td>3</td>\n",
       "      <td>Rest</td>\n",
       "      <td>1</td>\n",
       "      <td>1</td>\n",
       "      <td>1</td>\n",
       "      <td>0.0</td>\n",
       "      <td>3.59</td>\n",
       "      <td>0.0</td>\n",
       "      <td>0.0</td>\n",
       "      <td>0:00:02.000</td>\n",
       "      <td>2020-10-10 20:03:41</td>\n",
       "    </tr>\n",
       "    <tr>\n",
       "      <th>3</th>\n",
       "      <td>4</td>\n",
       "      <td>Rest</td>\n",
       "      <td>1</td>\n",
       "      <td>1</td>\n",
       "      <td>1</td>\n",
       "      <td>0.0</td>\n",
       "      <td>3.59</td>\n",
       "      <td>0.0</td>\n",
       "      <td>0.0</td>\n",
       "      <td>0:00:03.000</td>\n",
       "      <td>2020-10-10 20:03:42</td>\n",
       "    </tr>\n",
       "    <tr>\n",
       "      <th>4</th>\n",
       "      <td>5</td>\n",
       "      <td>Rest</td>\n",
       "      <td>1</td>\n",
       "      <td>1</td>\n",
       "      <td>1</td>\n",
       "      <td>0.0</td>\n",
       "      <td>3.59</td>\n",
       "      <td>0.0</td>\n",
       "      <td>0.0</td>\n",
       "      <td>0:00:04.000</td>\n",
       "      <td>2020-10-10 20:03:43</td>\n",
       "    </tr>\n",
       "  </tbody>\n",
       "</table>\n",
       "</div>"
      ],
      "text/plain": [
       "   Record Index Status  JumpTo  Cycle  Step  Cur(mA)  Voltage(V)  \\\n",
       "0             1   Rest       1      1     1      0.0        3.59   \n",
       "1             2   Rest       1      1     1      0.0        3.59   \n",
       "2             3   Rest       1      1     1      0.0        3.59   \n",
       "3             4   Rest       1      1     1      0.0        3.59   \n",
       "4             5   Rest       1      1     1      0.0        3.59   \n",
       "\n",
       "   CapaCity(mAh)  Energy(mWh) Relative Time(h:min:s.ms)       Absolute Time  \n",
       "0            0.0          0.0               0:00:00.000 2020-10-10 20:03:39  \n",
       "1            0.0          0.0               0:00:01.000 2020-10-10 20:03:40  \n",
       "2            0.0          0.0               0:00:02.000 2020-10-10 20:03:41  \n",
       "3            0.0          0.0               0:00:03.000 2020-10-10 20:03:42  \n",
       "4            0.0          0.0               0:00:04.000 2020-10-10 20:03:43  "
      ]
     },
     "execution_count": 56,
     "metadata": {},
     "output_type": "execute_result"
    }
   ],
   "source": [
    "#concating all the dataset(different xecel sheets)\n",
    "d=pd.concat([dataset1, dataset2, dataset3, dataset4, dataset5, dataset6, dataset7])\n",
    "d[:5]"
   ]
  },
  {
   "cell_type": "code",
   "execution_count": 59,
   "metadata": {},
   "outputs": [],
   "source": [
    "#Converting xcel file1 to csv\n",
    "dataset.to_csv (\"C:\\\\Users\\\\sinha\\\\Desktop\\data_1.xlsx\",\n",
    "                  index = None,\n",
    "                  header=True)\n",
    "d.to_csv (\"C:\\\\Users\\\\sinha\\\\Desktop\\detail.csv\", index = False, header=True)"
   ]
  },
  {
   "cell_type": "code",
   "execution_count": 3,
   "metadata": {},
   "outputs": [],
   "source": [
    "#reading DetailVol excel sheet\n",
    "vol1=pd.read_excel(r'C:\\Users\\sinha\\Desktop\\data.xlsx',sheet_name='DetailVol_67_1_1')\n",
    "vol2=pd.read_excel(r'C:\\Users\\sinha\\Desktop\\data.xlsx',sheet_name='DetailVol_67_1_1_1')\n",
    "vol3=pd.read_excel(r'C:\\Users\\sinha\\Desktop\\data.xlsx',sheet_name='DetailVol_67_1_1_2')\n",
    "vol4=pd.read_excel(r'C:\\Users\\sinha\\Desktop\\data.xlsx',sheet_name='DetailVol_67_1_1_3')\n",
    "vol5=pd.read_excel(r'C:\\Users\\sinha\\Desktop\\data.xlsx',sheet_name='DetailVol_67_1_1_4')\n",
    "vol6=pd.read_excel(r'C:\\Users\\sinha\\Desktop\\data.xlsx',sheet_name='DetailVol_67_1_1_5')\n",
    "vol7=pd.read_excel(r'C:\\Users\\sinha\\Desktop\\data.xlsx',sheet_name='DetailVol_67_1_1_6')"
   ]
  },
  {
   "cell_type": "code",
   "execution_count": 4,
   "metadata": {},
   "outputs": [],
   "source": [
    "#Concating detailVol data sets\n",
    "detailVol=pd.concat([vol1, vol2, vol3, vol4, vol5, vol6, vol7])\n"
   ]
  },
  {
   "cell_type": "code",
   "execution_count": 5,
   "metadata": {},
   "outputs": [
    {
     "data": {
      "text/html": [
       "<div>\n",
       "<style scoped>\n",
       "    .dataframe tbody tr th:only-of-type {\n",
       "        vertical-align: middle;\n",
       "    }\n",
       "\n",
       "    .dataframe tbody tr th {\n",
       "        vertical-align: top;\n",
       "    }\n",
       "\n",
       "    .dataframe thead th {\n",
       "        text-align: right;\n",
       "    }\n",
       "</style>\n",
       "<table border=\"1\" class=\"dataframe\">\n",
       "  <thead>\n",
       "    <tr style=\"text-align: right;\">\n",
       "      <th></th>\n",
       "      <th>Record ID</th>\n",
       "      <th>Step Name</th>\n",
       "      <th>Relative Time(h:min:s.ms)</th>\n",
       "      <th>Realtime</th>\n",
       "      <th>Auxiliary channel TU1 U(V)</th>\n",
       "      <th>Gap of Voltage</th>\n",
       "    </tr>\n",
       "  </thead>\n",
       "  <tbody>\n",
       "    <tr>\n",
       "      <th>0</th>\n",
       "      <td>1</td>\n",
       "      <td>Rest</td>\n",
       "      <td>0:00:00.000</td>\n",
       "      <td>2020-10-10 20:03:39</td>\n",
       "      <td>-0.0013</td>\n",
       "      <td>0</td>\n",
       "    </tr>\n",
       "    <tr>\n",
       "      <th>1</th>\n",
       "      <td>2</td>\n",
       "      <td>Rest</td>\n",
       "      <td>0:00:01.000</td>\n",
       "      <td>2020-10-10 20:03:40</td>\n",
       "      <td>-0.0013</td>\n",
       "      <td>0</td>\n",
       "    </tr>\n",
       "    <tr>\n",
       "      <th>2</th>\n",
       "      <td>3</td>\n",
       "      <td>Rest</td>\n",
       "      <td>0:00:02.000</td>\n",
       "      <td>2020-10-10 20:03:41</td>\n",
       "      <td>-0.0013</td>\n",
       "      <td>0</td>\n",
       "    </tr>\n",
       "    <tr>\n",
       "      <th>3</th>\n",
       "      <td>4</td>\n",
       "      <td>Rest</td>\n",
       "      <td>0:00:03.000</td>\n",
       "      <td>2020-10-10 20:03:42</td>\n",
       "      <td>-0.0013</td>\n",
       "      <td>0</td>\n",
       "    </tr>\n",
       "    <tr>\n",
       "      <th>4</th>\n",
       "      <td>5</td>\n",
       "      <td>Rest</td>\n",
       "      <td>0:00:04.000</td>\n",
       "      <td>2020-10-10 20:03:43</td>\n",
       "      <td>-0.0012</td>\n",
       "      <td>0</td>\n",
       "    </tr>\n",
       "    <tr>\n",
       "      <th>5</th>\n",
       "      <td>6</td>\n",
       "      <td>Rest</td>\n",
       "      <td>0:00:05.000</td>\n",
       "      <td>2020-10-10 20:03:44</td>\n",
       "      <td>-0.0013</td>\n",
       "      <td>0</td>\n",
       "    </tr>\n",
       "  </tbody>\n",
       "</table>\n",
       "</div>"
      ],
      "text/plain": [
       "   Record ID Step Name Relative Time(h:min:s.ms)            Realtime  \\\n",
       "0          1      Rest               0:00:00.000 2020-10-10 20:03:39   \n",
       "1          2      Rest               0:00:01.000 2020-10-10 20:03:40   \n",
       "2          3      Rest               0:00:02.000 2020-10-10 20:03:41   \n",
       "3          4      Rest               0:00:03.000 2020-10-10 20:03:42   \n",
       "4          5      Rest               0:00:04.000 2020-10-10 20:03:43   \n",
       "5          6      Rest               0:00:05.000 2020-10-10 20:03:44   \n",
       "\n",
       "   Auxiliary channel TU1 U(V)  Gap of Voltage  \n",
       "0                     -0.0013               0  \n",
       "1                     -0.0013               0  \n",
       "2                     -0.0013               0  \n",
       "3                     -0.0013               0  \n",
       "4                     -0.0012               0  \n",
       "5                     -0.0013               0  "
      ]
     },
     "execution_count": 5,
     "metadata": {},
     "output_type": "execute_result"
    }
   ],
   "source": [
    "detailVol[:6]"
   ]
  },
  {
   "cell_type": "code",
   "execution_count": 7,
   "metadata": {},
   "outputs": [],
   "source": [
    "#Converting it into csv \n",
    "detailVol.to_csv (r'C:\\Users\\sinha\\Desktop\\detailVol.csv', index = False, header=True)"
   ]
  },
  {
   "cell_type": "code",
   "execution_count": 8,
   "metadata": {},
   "outputs": [],
   "source": [
    "#Import the modules and set the directory\n",
    "import os, glob\n",
    "import pandas as pd\n",
    "\n",
    "path = \"C:\\\\Users\\\\sinha\\\\Desktop\\\\Data\\Data\""
   ]
  },
  {
   "cell_type": "code",
   "execution_count": 9,
   "metadata": {},
   "outputs": [],
   "source": [
    "#Match the csv by the record ID\n",
    "all_files = glob.glob(os.path.join(path, \"Detail_67_*.csv\"))"
   ]
  },
  {
   "cell_type": "code",
   "execution_count": null,
   "metadata": {},
   "outputs": [],
   "source": [
    "#reading Data_1 Excel sheet\n",
    "temp1=pd.read_excel(r'C:\\Users\\sinha\\Desktop\\data.xlsx',sheet_name='DetailTemp_67_1_1')\n",
    "temp2=pd.read_excel(r'C:\\Users\\sinha\\Desktop\\data.xlsx',sheet_name='DetailTemp_67_1_1_1')\n",
    "temp3=pd.read_excel(r'C:\\Users\\sinha\\Desktop\\data.xlsx',sheet_name='DetailTemp_67_1_1_2')"
   ]
  },
  {
   "cell_type": "code",
   "execution_count": null,
   "metadata": {},
   "outputs": [],
   "source": [
    "temp4=pd.read_excel(r'C:\\Users\\sinha\\Desktop\\data.xlsx',sheet_name='DetailTemp_67_1_1_3')\n",
    "temp5=pd.read_excel(r'C:\\Users\\sinha\\Desktop\\data_1.xlsx',sheet_name='DetailTemp_67_1_1_4')\n",
    "temp6=pd.read_excel(r'C:\\Users\\sinha\\Desktop\\data_1.xlsx',sheet_name='DetailTemp_67_1_1_5')\n",
    "temp7=pd.read_excel(r'C:\\Users\\sinha\\Desktop\\data_1.xlsx',sheet_name='DetailTemp_67_1_1_6')"
   ]
  },
  {
   "cell_type": "code",
   "execution_count": null,
   "metadata": {},
   "outputs": [],
   "source": [
    "#Conacting different data set of Detailtemp\n",
    "detailTemp=pd.concat([temp1, temp2, temp3, temp4, temp5, temp6, temp7])\n"
   ]
  },
  {
   "cell_type": "code",
   "execution_count": null,
   "metadata": {},
   "outputs": [],
   "source": [
    "#converting it into csv file\n",
    "detailTemp.to_csv(r'C:\\Users\\sinha\\Desktop\\detailTemp.csv', index = False, header=True)"
   ]
  },
  {
   "cell_type": "code",
   "execution_count": null,
   "metadata": {},
   "outputs": [],
   "source": [
    "detailTemp[:6]"
   ]
  },
  {
   "cell_type": "code",
   "execution_count": null,
   "metadata": {},
   "outputs": [],
   "source": [
    "#down-sampling method to reduce the sampling rate to 1 sample/minute\n",
    "df=pd.read_csv('C:\\\\Users\\\\sinha\\\\Desktop\\\\detailTemp.csv',parse_dates=['Realtime'])\n",
    "df\n",
    "#type(df.Relative Time(h:min:s.ms))\n",
    "detailTempDownsampled=df.resample('1Min',on='Realtime').mean()\n",
    "\n",
    "#detailTempDownsampled.to_csv (r'C:\\Users\\sinha\\Desktop\\detailTempDownsampled.csv', header=True)\n",
    "detailTempDownsampled\n",
    "\n",
    "df1=pd.read_csv('C:\\\\Users\\\\sinha\\\\Desktop\\\\detailVol.csv',index_col=['Record ID'],parse_dates=['Realtime'])\n",
    "df1\n",
    "\n",
    "detailVolDownsampled=df1.resample('1Min',on='Realtime').mean()\n",
    "#df_x.resample('5Min').agg({'price': 'mean', 'vol': 'sum'})\n",
    "detailVolDownsampled.to_csv (r'C:\\Users\\sinha\\Desktop\\detailVolDownsampled.csv', header=True)\n",
    "detailVolDownsampled\n",
    "\n",
    "df2=pd.read_csv('C:\\\\Users\\\\sinha\\\\Desktop\\\\detail.csv',index_col=['Record Index'],parse_dates=['Absolute Time'])\n",
    "df2\n",
    "\n",
    "detailDownsampled=df2.resample('1Min',on='Absolute Time').mean()\n",
    "#df_x.resample('5Min').agg({'price': 'mean', 'vol': 'sum'})\n",
    "detailDownsampled.to_csv (r'C:\\Users\\sinha\\Desktop\\detailDownsampled.csv', header=True)\n",
    "detailDownsampled"
   ]
  },
  {
   "cell_type": "code",
   "execution_count": null,
   "metadata": {},
   "outputs": [],
   "source": [
    "plt.xlabel('Auxiliary channel TU1 T(°C)_x')\n",
    "plt.ylabel('Record ID')\n",
    "\n",
    "xvalues=DetailTemp_67_['Auxiliary channel TU1 T(°C)_x'].head(10)\n",
    "yvalues1 = DetailTemp_67_['Record ID'].head(10)\n",
    "plt.plot(xvalues, yvalues1, lw=2, color='red')"
   ]
  },
  {
   "cell_type": "code",
   "execution_count": null,
   "metadata": {},
   "outputs": [],
   "source": [
    "#low pass filter technique for noise removal on the data set\n",
    "#Step 1 : Define the filter requirements\n",
    "import numpy as np\n",
    "from scipy.signal import butter,filtfilt\n",
    "# Filter requirements.\n",
    "T = 5.0         # Sample Period\n",
    "fs = 30.0       # sample rate, Hz\n",
    "cutoff = 2      # desired cutoff frequency of the filter, Hz ,      slightly higher than actual 1.2 Hz\n",
    "nyq = 0.5 * fs  # Nyquist Frequency\n",
    "order = 2       # sin wave can be approx represented as quadratic\n",
    "n = int(T * fs) # total number of samples"
   ]
  },
  {
   "cell_type": "code",
   "execution_count": null,
   "metadata": {},
   "outputs": [],
   "source": [
    "#Step 2 : Create some sample data with noise\n",
    "# sin wave\n",
    "sig = np.sin(1.2*2*np.pi*t)\n",
    "# Lets add some noise\n",
    "noise = 1.5*np.cos(9*2*np.pi*t) + 0.5*np.sin(12.0*2*np.pi*t)\n",
    "data = sig + noise"
   ]
  },
  {
   "cell_type": "code",
   "execution_count": null,
   "metadata": {},
   "outputs": [],
   "source": [
    "#Step 3 : Filter implementation using scipy\n",
    "def butter_lowpass_filter(data, cutoff, fs, order):\n",
    "    normal_cutoff = cutoff / nyq\n",
    "    # Get the filter coefficients \n",
    "    b, a = butter(order, normal_cutoff, btype='low', analog=False)\n",
    "    y = filtfilt(b, a, data)\n",
    "    return y"
   ]
  },
  {
   "cell_type": "code",
   "execution_count": null,
   "metadata": {},
   "outputs": [],
   "source": [
    "# Filter the data, and plot both the original and filtered signals.\n",
    "y = butter_lowpass_filter(data, cutoff, fs, order)\n",
    "fig = go.Figure()\n",
    "fig.add_trace(go.Scatter(\n",
    "            y = data,\n",
    "            line =  dict(shape =  'spline' ),\n",
    "            name = 'signal with noise'\n",
    "            ))\n",
    "fig.add_trace(go.Scatter(\n",
    "            y = y,\n",
    "            line =  dict(shape =  'spline' ),\n",
    "            name = 'filtered signal'\n",
    "            ))\n",
    "fig.show()"
   ]
  },
  {
   "cell_type": "code",
   "execution_count": null,
   "metadata": {},
   "outputs": [],
   "source": [
    "#Data Cleaning\n",
    "detailTemp['Step Name_y'] =detailTemp['Step Name_y'].replace(np.nan, 0)"
   ]
  },
  {
   "cell_type": "code",
   "execution_count": null,
   "metadata": {},
   "outputs": [],
   "source": [
    "DetailTemp[:5]"
   ]
  },
  {
   "cell_type": "code",
   "execution_count": null,
   "metadata": {},
   "outputs": [],
   "source": [
    "#cProfile is a built-in python module that can perform profiling. It is the most commonly used profiler currently.\n",
    "# import module\n",
    "import cProfile"
   ]
  },
  {
   "cell_type": "code",
   "execution_count": null,
   "metadata": {},
   "outputs": [],
   "source": [
    "pr = cProfile.Profile()\n",
    "pr.enable()\n",
    "my_func()   # the code I want to profile\n",
    "pr.disable()\n",
    "pr.print_stats("
   ]
  },
  {
   "cell_type": "code",
   "execution_count": null,
   "metadata": {},
   "outputs": [],
   "source": [
    "cProfile.run('my_func()','profile_results')"
   ]
  },
  {
   "cell_type": "code",
   "execution_count": null,
   "metadata": {},
   "outputs": [],
   "source": [
    "#Run unit test on each function,i.e., write test cases for each function. Use unittest for the same.\n",
    "import unittest\n",
    "\n",
    "class TestStringMethods(unittest.TestCase):\n",
    "\n",
    "    def test_upper(self):\n",
    "        self.assertEqual('foo'.upper(), 'FOO')\n",
    "\n",
    "    def test_isupper(self):\n",
    "        self.assertTrue('FOO'.isupper())\n",
    "        self.assertFalse('Foo'.isupper())\n",
    "\n",
    "    def test_split(self):\n",
    "        s = 'hello world'\n",
    "        self.assertEqual(s.split(), ['hello', 'world'])\n",
    "        # check that s.split fails when the separator is not a string\n",
    "        with self.assertRaises(TypeError):\n",
    "            s.split(2)\n",
    "\n",
    "if __name__ == '__main__':\n",
    "    unittest.main()"
   ]
  },
  {
   "cell_type": "code",
   "execution_count": null,
   "metadata": {},
   "outputs": [],
   "source": []
  },
  {
   "cell_type": "code",
   "execution_count": null,
   "metadata": {},
   "outputs": [],
   "source": []
  }
 ],
 "metadata": {
  "kernelspec": {
   "display_name": "Python 3",
   "language": "python",
   "name": "python3"
  }
 },
 "nbformat": 4,
 "nbformat_minor": 4
}
